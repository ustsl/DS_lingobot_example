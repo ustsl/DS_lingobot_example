{
 "cells": [
  {
   "cell_type": "code",
   "execution_count": 1,
   "id": "1e40e043",
   "metadata": {},
   "outputs": [],
   "source": [
    "# IMPORTS\n",
    "\n",
    "# Base\n",
    "import json\n",
    "import pandas as pd\n",
    "\n",
    "# Inner\n",
    "from scripts.file_manager import YAML_read, JSON_load, JSON_open\n",
    "from scripts.requests import Request_post\n",
    "\n",
    "# Old Inner Libs\n",
    "from scripts.googlesheets_upload_lib import ListConventer\n",
    "from scripts.intervals_api import *\n"
   ]
  },
  {
   "cell_type": "code",
   "execution_count": 2,
   "id": "9b07ac5b",
   "metadata": {},
   "outputs": [],
   "source": [
    "# Get settings\n",
    "file = YAML_read('config')\n",
    "file.get_config()\n",
    "token = file.config['service_token'] # Exclude API token\n",
    "link = file.config['service_link'] # Exclude API url\n",
    "json_o = JSON_open('data')\n",
    "json_o.open()\n",
    "start_data = json_o.data\n",
    "actual_data_id = start_data[0]['id'] # This is maximum data id in offline dataset"
   ]
  },
  {
   "cell_type": "code",
   "execution_count": 3,
   "id": "7d73166c",
   "metadata": {},
   "outputs": [
    {
     "name": "stdout",
     "output_type": "stream",
     "text": [
      "Actual data not found\n"
     ]
    }
   ],
   "source": [
    "# Get data on cycle request \n",
    "\n",
    "result = Request_post(link, token) # First request\n",
    "data = []\n",
    "snap = result.result\n",
    "num = 1\n",
    "work = True\n",
    "while work:\n",
    "    if snap['next']:\n",
    "        link = snap['next']\n",
    "        for result in snap['results']:\n",
    "            if result['id'] > actual_data_id:\n",
    "                data += [result]\n",
    "                result = Request_post(link, token)\n",
    "                snap = result.result\n",
    "                num += 1\n",
    "            else:\n",
    "                print('Actual data not found')\n",
    "                work = False\n",
    "                break\n",
    "        \n",
    "    else:\n",
    "        work = False\n"
   ]
  },
  {
   "cell_type": "code",
   "execution_count": 4,
   "id": "ed5a38c5",
   "metadata": {},
   "outputs": [],
   "source": [
    "# Save data\n",
    "data = data+start_data\n",
    "json_l = JSON_load('data')\n",
    "json_l = json_l.load(data)"
   ]
  },
  {
   "cell_type": "code",
   "execution_count": 5,
   "id": "69ddb4dc",
   "metadata": {},
   "outputs": [
    {
     "name": "stdout",
     "output_type": "stream",
     "text": [
      "Количество пользователей - 210\n"
     ]
    },
    {
     "data": {
      "text/html": [
       "<div>\n",
       "<style scoped>\n",
       "    .dataframe tbody tr th:only-of-type {\n",
       "        vertical-align: middle;\n",
       "    }\n",
       "\n",
       "    .dataframe tbody tr th {\n",
       "        vertical-align: top;\n",
       "    }\n",
       "\n",
       "    .dataframe thead th {\n",
       "        text-align: right;\n",
       "    }\n",
       "</style>\n",
       "<table border=\"1\" class=\"dataframe\">\n",
       "  <thead>\n",
       "    <tr style=\"text-align: right;\">\n",
       "      <th></th>\n",
       "      <th>id</th>\n",
       "      <th>identity</th>\n",
       "      <th>command</th>\n",
       "      <th>time_create</th>\n",
       "      <th>date</th>\n",
       "    </tr>\n",
       "  </thead>\n",
       "  <tbody>\n",
       "    <tr>\n",
       "      <th>0</th>\n",
       "      <td>2158</td>\n",
       "      <td>315854463</td>\n",
       "      <td>progress_words</td>\n",
       "      <td>2022-12-21T19:31:12.026663+03:00</td>\n",
       "      <td>2022-12-21</td>\n",
       "    </tr>\n",
       "    <tr>\n",
       "      <th>1</th>\n",
       "      <td>2157</td>\n",
       "      <td>315854463</td>\n",
       "      <td>new_words</td>\n",
       "      <td>2022-12-21T19:31:09.470956+03:00</td>\n",
       "      <td>2022-12-21</td>\n",
       "    </tr>\n",
       "    <tr>\n",
       "      <th>2</th>\n",
       "      <td>2156</td>\n",
       "      <td>315854463</td>\n",
       "      <td>/menu</td>\n",
       "      <td>2022-12-21T19:31:08.239244+03:00</td>\n",
       "      <td>2022-12-21</td>\n",
       "    </tr>\n",
       "    <tr>\n",
       "      <th>3</th>\n",
       "      <td>2155</td>\n",
       "      <td>807588143</td>\n",
       "      <td>new_words</td>\n",
       "      <td>2022-12-21T19:23:44.584855+03:00</td>\n",
       "      <td>2022-12-21</td>\n",
       "    </tr>\n",
       "    <tr>\n",
       "      <th>4</th>\n",
       "      <td>2154</td>\n",
       "      <td>807588143</td>\n",
       "      <td>exit</td>\n",
       "      <td>2022-12-21T19:23:41.545448+03:00</td>\n",
       "      <td>2022-12-21</td>\n",
       "    </tr>\n",
       "  </tbody>\n",
       "</table>\n",
       "</div>"
      ],
      "text/plain": [
       "     id   identity         command                       time_create  \\\n",
       "0  2158  315854463  progress_words  2022-12-21T19:31:12.026663+03:00   \n",
       "1  2157  315854463       new_words  2022-12-21T19:31:09.470956+03:00   \n",
       "2  2156  315854463           /menu  2022-12-21T19:31:08.239244+03:00   \n",
       "3  2155  807588143       new_words  2022-12-21T19:23:44.584855+03:00   \n",
       "4  2154  807588143            exit  2022-12-21T19:23:41.545448+03:00   \n",
       "\n",
       "         date  \n",
       "0  2022-12-21  \n",
       "1  2022-12-21  \n",
       "2  2022-12-21  \n",
       "3  2022-12-21  \n",
       "4  2022-12-21  "
      ]
     },
     "execution_count": 5,
     "metadata": {},
     "output_type": "execute_result"
    }
   ],
   "source": [
    "# Pandas\n",
    "df=pd.DataFrame(data)\n",
    "ids = list(df['identity'].unique())\n",
    "users_count = len(df['identity'].unique())\n",
    "print(f'Количество пользователей - {users_count}')\n",
    "df['date'] = df.apply(lambda x: x['time_create'].split('T')[0],axis=1)\n",
    "df.head()"
   ]
  },
  {
   "cell_type": "code",
   "execution_count": null,
   "id": "2c4035c2",
   "metadata": {},
   "outputs": [],
   "source": [
    "# Create intervals token and links wrapper\n",
    "\n",
    "def intervals_link(id):\n",
    "    return f'https://intervals.ru/data/api/v1/{str(id)}/'\n",
    "\n",
    "gic = GetIntervalsConfig()\n",
    "gic.get_token('config')"
   ]
  },
  {
   "cell_type": "code",
   "execution_count": null,
   "id": "4f3d5064",
   "metadata": {},
   "outputs": [],
   "source": [
    "def get_days(row):\n",
    "    try:\n",
    "        return len(list(df[df['identity'] == row['identity']]['date'].unique()))\n",
    "    except:\n",
    "        0\n",
    "        \n",
    "def get_counts(row):\n",
    "    return df['identity'].value_counts ()[row['identity']]\n",
    "\n",
    "# Data days, counts\n",
    "days_stat = pd.DataFrame(ids, columns=['identity'])\n",
    "days_stat['days'] = days_stat.apply(get_days, axis=1)\n",
    "days_stat['counts'] = days_stat.apply(get_counts, axis=1)\n",
    "days_stat = days_stat.sort_values(by='days', ascending=False).reset_index()[['identity', 'days', 'counts']]\n",
    "\n",
    "# Upload data on intervals\n",
    "lc = ListConventer(days_stat,'width_headers')\n",
    "lc.conventer()\n",
    "IntervalsUpload(gic.token, intervals_link(168), lc.datsheets)   "
   ]
  },
  {
   "cell_type": "code",
   "execution_count": null,
   "id": "f5d0d6ab",
   "metadata": {},
   "outputs": [],
   "source": [
    "# Data commands\n",
    "commands = df['command'].value_counts().reset_index()\n",
    "commands.columns = ['command', 'counts']\n",
    "\n",
    "\n",
    "# Upload data on intervals\n",
    "lc = ListConventer(commands.head(30),'width_headers')\n",
    "lc.conventer()\n",
    "IntervalsUpload(gic.token, intervals_link(169), lc.datsheets)   "
   ]
  },
  {
   "cell_type": "code",
   "execution_count": null,
   "id": "a63c6ba3",
   "metadata": {},
   "outputs": [],
   "source": []
  }
 ],
 "metadata": {
  "kernelspec": {
   "display_name": "Python 3 (ipykernel)",
   "language": "python",
   "name": "python3"
  },
  "language_info": {
   "codemirror_mode": {
    "name": "ipython",
    "version": 3
   },
   "file_extension": ".py",
   "mimetype": "text/x-python",
   "name": "python",
   "nbconvert_exporter": "python",
   "pygments_lexer": "ipython3",
   "version": "3.9.12"
  }
 },
 "nbformat": 4,
 "nbformat_minor": 5
}
