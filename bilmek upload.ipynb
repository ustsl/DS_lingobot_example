{
 "cells": [
  {
   "cell_type": "code",
   "execution_count": null,
   "id": "7978cd0b",
   "metadata": {},
   "outputs": [],
   "source": []
  },
  {
   "cell_type": "code",
   "execution_count": 9,
   "id": "55b70ed7",
   "metadata": {},
   "outputs": [],
   "source": [
    "# IMPORTS\n",
    "\n",
    "# Base\n",
    "import json\n",
    "import pandas as pd\n",
    "\n",
    "# Inner\n",
    "from scripts.file_manager import YAML_read, JSON_load, JSON_open\n",
    "from scripts.requests import Request_post\n",
    "\n",
    "# Old Inner Libs\n",
    "from scripts.googlesheets_upload_lib import ListConventer\n",
    "from scripts.intervals_api import *\n"
   ]
  },
  {
   "cell_type": "code",
   "execution_count": 10,
   "id": "86beb0bd",
   "metadata": {},
   "outputs": [],
   "source": [
    "# Get settings\n",
    "file = YAML_read('config')\n",
    "config = file.get_config()\n",
    "token = config['service_token'] # Exclude API token\n",
    "link = config['service_link'] # Exclude API url\n",
    "intervals_credentials = (config['intervals_email'], config['intervals_password'])\n",
    "json_o = JSON_open('data')\n",
    "start_data = json_o.open()\n",
    "actual_data_id = start_data[0]['id'] # This is maximum data id in offline dataset"
   ]
  },
  {
   "cell_type": "code",
   "execution_count": 11,
   "id": "ee2647de",
   "metadata": {},
   "outputs": [
    {
     "data": {
      "text/plain": [
       "<scripts.requests.Request_post at 0x7f0565013820>"
      ]
     },
     "execution_count": 11,
     "metadata": {},
     "output_type": "execute_result"
    }
   ],
   "source": [
    "Request_post(link, token) "
   ]
  },
  {
   "cell_type": "code",
   "execution_count": 12,
   "id": "0cf3bdd1",
   "metadata": {},
   "outputs": [
    {
     "name": "stdout",
     "output_type": "stream",
     "text": [
      "Actual data not found\n"
     ]
    }
   ],
   "source": [
    "# Get data on cycle request \n",
    "\n",
    "result = Request_post(link, token) # First request\n",
    "data = []\n",
    "snap = result.result\n",
    "num = 1\n",
    "work = True\n",
    "while work:\n",
    "    if snap['next']:\n",
    "        link = snap['next']\n",
    "        for result in snap['results']:\n",
    "            if result['id'] > actual_data_id:\n",
    "                data += [result]\n",
    "                result = Request_post(link, token)\n",
    "                snap = result.result\n",
    "                num += 1\n",
    "            else:\n",
    "                print('Actual data not found')\n",
    "                work = False\n",
    "                break\n",
    "        \n",
    "    else:\n",
    "        work = False\n"
   ]
  },
  {
   "cell_type": "code",
   "execution_count": 13,
   "id": "ebff95d8",
   "metadata": {},
   "outputs": [],
   "source": [
    "# Save data\n",
    "data = data+start_data\n",
    "json_l = JSON_load('data')\n",
    "json_l = json_l.load(data)"
   ]
  },
  {
   "cell_type": "code",
   "execution_count": 14,
   "id": "1c80435e",
   "metadata": {},
   "outputs": [
    {
     "name": "stdout",
     "output_type": "stream",
     "text": [
      "Количество пользователей - 214\n"
     ]
    },
    {
     "data": {
      "text/html": [
       "<div>\n",
       "<style scoped>\n",
       "    .dataframe tbody tr th:only-of-type {\n",
       "        vertical-align: middle;\n",
       "    }\n",
       "\n",
       "    .dataframe tbody tr th {\n",
       "        vertical-align: top;\n",
       "    }\n",
       "\n",
       "    .dataframe thead th {\n",
       "        text-align: right;\n",
       "    }\n",
       "</style>\n",
       "<table border=\"1\" class=\"dataframe\">\n",
       "  <thead>\n",
       "    <tr style=\"text-align: right;\">\n",
       "      <th></th>\n",
       "      <th>id</th>\n",
       "      <th>identity</th>\n",
       "      <th>command</th>\n",
       "      <th>time_create</th>\n",
       "      <th>date</th>\n",
       "    </tr>\n",
       "  </thead>\n",
       "  <tbody>\n",
       "    <tr>\n",
       "      <th>0</th>\n",
       "      <td>2204</td>\n",
       "      <td>2045712808</td>\n",
       "      <td>new_words</td>\n",
       "      <td>2022-12-22T19:40:30.930689+03:00</td>\n",
       "      <td>2022-12-22</td>\n",
       "    </tr>\n",
       "    <tr>\n",
       "      <th>1</th>\n",
       "      <td>2203</td>\n",
       "      <td>2045712808</td>\n",
       "      <td>main_menu</td>\n",
       "      <td>2022-12-22T19:40:05.469298+03:00</td>\n",
       "      <td>2022-12-22</td>\n",
       "    </tr>\n",
       "    <tr>\n",
       "      <th>2</th>\n",
       "      <td>2202</td>\n",
       "      <td>2045712808</td>\n",
       "      <td>proceed_start</td>\n",
       "      <td>2022-12-22T19:39:50.753952+03:00</td>\n",
       "      <td>2022-12-22</td>\n",
       "    </tr>\n",
       "    <tr>\n",
       "      <th>3</th>\n",
       "      <td>2201</td>\n",
       "      <td>2045712808</td>\n",
       "      <td>/start</td>\n",
       "      <td>2022-12-22T19:39:33.652020+03:00</td>\n",
       "      <td>2022-12-22</td>\n",
       "    </tr>\n",
       "    <tr>\n",
       "      <th>4</th>\n",
       "      <td>2200</td>\n",
       "      <td>315854463</td>\n",
       "      <td>/menu</td>\n",
       "      <td>2022-12-22T19:11:05.311142+03:00</td>\n",
       "      <td>2022-12-22</td>\n",
       "    </tr>\n",
       "  </tbody>\n",
       "</table>\n",
       "</div>"
      ],
      "text/plain": [
       "     id    identity        command                       time_create  \\\n",
       "0  2204  2045712808      new_words  2022-12-22T19:40:30.930689+03:00   \n",
       "1  2203  2045712808      main_menu  2022-12-22T19:40:05.469298+03:00   \n",
       "2  2202  2045712808  proceed_start  2022-12-22T19:39:50.753952+03:00   \n",
       "3  2201  2045712808         /start  2022-12-22T19:39:33.652020+03:00   \n",
       "4  2200   315854463          /menu  2022-12-22T19:11:05.311142+03:00   \n",
       "\n",
       "         date  \n",
       "0  2022-12-22  \n",
       "1  2022-12-22  \n",
       "2  2022-12-22  \n",
       "3  2022-12-22  \n",
       "4  2022-12-22  "
      ]
     },
     "execution_count": 14,
     "metadata": {},
     "output_type": "execute_result"
    }
   ],
   "source": [
    "# Pandas\n",
    "df=pd.DataFrame(data)\n",
    "ids = list(df['identity'].unique())\n",
    "users_count = len(df['identity'].unique())\n",
    "print(f'Количество пользователей - {users_count}')\n",
    "df['date'] = df.apply(lambda x: x['time_create'].split('T')[0],axis=1)\n",
    "df.head()"
   ]
  },
  {
   "cell_type": "code",
   "execution_count": 15,
   "id": "4d1a7d56",
   "metadata": {},
   "outputs": [
    {
     "name": "stdout",
     "output_type": "stream",
     "text": [
      "Данные АПИ получены\n"
     ]
    }
   ],
   "source": [
    "# Create intervals token and links wrapper\n",
    "gic = GetIntervalsConfig()\n",
    "gic.get_token(intervals_credentials[0], intervals_credentials[1])"
   ]
  },
  {
   "cell_type": "code",
   "execution_count": 16,
   "id": "22e8efa3",
   "metadata": {},
   "outputs": [
    {
     "name": "stdout",
     "output_type": "stream",
     "text": [
      "Данные успешно загружены в контейнер\n",
      "<Response [200]>\n"
     ]
    },
    {
     "data": {
      "text/plain": [
       "<scripts.intervals_api.IntervalsUpload at 0x7f05650177f0>"
      ]
     },
     "execution_count": 16,
     "metadata": {},
     "output_type": "execute_result"
    }
   ],
   "source": [
    "def get_days(row):\n",
    "    try:\n",
    "        return len(list(df[df['identity'] == row['identity']]['date'].unique()))\n",
    "    except:\n",
    "        0\n",
    "        \n",
    "def get_counts(row):\n",
    "    return df['identity'].value_counts ()[row['identity']]\n",
    "\n",
    "# Data days, counts\n",
    "days_stat = pd.DataFrame(ids, columns=['identity'])\n",
    "days_stat['days'] = days_stat.apply(get_days, axis=1)\n",
    "days_stat['counts'] = days_stat.apply(get_counts, axis=1)\n",
    "days_stat = days_stat.sort_values(by='days', ascending=False).reset_index()[['identity', 'days', 'counts']]\n",
    "\n",
    "# Upload data on intervals\n",
    "lc = ListConventer(days_stat,'width_headers')\n",
    "lc.conventer()\n",
    "IntervalsUpload(gic.token, intervals_link(168), lc.datsheets)   "
   ]
  },
  {
   "cell_type": "code",
   "execution_count": 17,
   "id": "1e08f9aa",
   "metadata": {},
   "outputs": [
    {
     "name": "stdout",
     "output_type": "stream",
     "text": [
      "Данные успешно загружены в контейнер\n",
      "<Response [200]>\n"
     ]
    },
    {
     "data": {
      "text/plain": [
       "<scripts.intervals_api.IntervalsUpload at 0x7f056631ffd0>"
      ]
     },
     "execution_count": 17,
     "metadata": {},
     "output_type": "execute_result"
    }
   ],
   "source": [
    "# Data commands\n",
    "commands = df['command'].value_counts().reset_index()\n",
    "commands.columns = ['command', 'counts']\n",
    "\n",
    "\n",
    "# Upload data on intervals\n",
    "lc = ListConventer(commands,'width_headers')\n",
    "lc.conventer()\n",
    "IntervalsUpload(gic.token, intervals_link(169), lc.datsheets)   "
   ]
  },
  {
   "cell_type": "code",
   "execution_count": 54,
   "id": "4c24398a",
   "metadata": {},
   "outputs": [
    {
     "name": "stdout",
     "output_type": "stream",
     "text": [
      "Данные успешно загружены в контейнер\n",
      "<Response [200]>\n"
     ]
    },
    {
     "data": {
      "text/plain": [
       "<scripts.intervals_api.IntervalsUpload at 0x7f0561ce6df0>"
      ]
     },
     "execution_count": 54,
     "metadata": {},
     "output_type": "execute_result"
    }
   ],
   "source": [
    "# Fint extreme id's with so large, or so small values\n",
    "max_count = days_stat['counts'].quantile(0.9)\n",
    "min_count = days_stat['counts'].quantile(0.2)\n",
    "extreme_values = list(days_stat[(days_stat['counts'] < min_count) \\\n",
    "                                | (days_stat['counts'] > max_count)]['identity'])\n",
    "\n",
    "# Clean dataset\n",
    "clean_df = df[~df['identity'].isin(extreme_values)]\n",
    "\n",
    "# Data commands\n",
    "commands = clean_df['command'].value_counts().reset_index()\n",
    "commands.columns = ['command', 'counts']\n",
    "\n",
    "# Upload data on intervals\n",
    "lc = ListConventer(commands,'width_headers')\n",
    "lc.conventer()\n",
    "IntervalsUpload(gic.token, intervals_link(170), lc.datsheets)   \n"
   ]
  },
  {
   "cell_type": "code",
   "execution_count": null,
   "id": "6af986c2",
   "metadata": {},
   "outputs": [],
   "source": []
  }
 ],
 "metadata": {
  "kernelspec": {
   "display_name": "Python 3 (ipykernel)",
   "language": "python",
   "name": "python3"
  },
  "language_info": {
   "codemirror_mode": {
    "name": "ipython",
    "version": 3
   },
   "file_extension": ".py",
   "mimetype": "text/x-python",
   "name": "python",
   "nbconvert_exporter": "python",
   "pygments_lexer": "ipython3",
   "version": "3.9.12"
  }
 },
 "nbformat": 4,
 "nbformat_minor": 5
}
