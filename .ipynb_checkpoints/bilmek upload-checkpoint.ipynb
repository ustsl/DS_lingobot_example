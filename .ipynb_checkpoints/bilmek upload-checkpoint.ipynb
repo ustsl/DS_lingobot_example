{
 "cells": [
  {
   "cell_type": "code",
   "execution_count": 76,
   "id": "6ea64138",
   "metadata": {},
   "outputs": [],
   "source": [
    "# IMPORTS\n",
    "\n",
    "# Base\n",
    "import json\n",
    "import pandas as pd\n",
    "\n",
    "# Inner\n",
    "from scripts.file_manager import YAML_read, JSON_load, JSON_open\n",
    "from scripts.requests import Request_post\n",
    "\n",
    "# Old Inner Libs\n",
    "from scripts.googlesheets_upload_lib import ListConventer\n",
    "from scripts.intervals_api import *\n"
   ]
  },
  {
   "cell_type": "code",
   "execution_count": 52,
   "id": "1490730c",
   "metadata": {},
   "outputs": [],
   "source": [
    "# Get settings\n",
    "file = YAML_read('config')\n",
    "file.get_config()\n",
    "token = file.config['service_token'] # Exclude API token\n",
    "link = file.config['service_link'] # Exclude API url\n",
    "json_o = JSON_open('data')\n",
    "json_o.open()\n",
    "start_data = json_o.data\n",
    "actual_data_id = start_data[0]['id'] # This is maximum data id in offline dataset"
   ]
  },
  {
   "cell_type": "code",
   "execution_count": 53,
   "id": "29d10a2b",
   "metadata": {},
   "outputs": [
    {
     "name": "stdout",
     "output_type": "stream",
     "text": [
      "Actual data not found\n"
     ]
    }
   ],
   "source": [
    "# Get data on cycle request \n",
    "\n",
    "result = Request_post(link, token) # First request\n",
    "data = []\n",
    "snap = result.result\n",
    "num = 1\n",
    "work = True\n",
    "while work:\n",
    "    if snap['next']:\n",
    "        for result in snap['results']:\n",
    "            if result['id'] > actual_data_id:\n",
    "                data += [result]\n",
    "                link = snap['next']\n",
    "                result = Request_post(link, token)\n",
    "                snap = result.result\n",
    "                num += 1\n",
    "            else:\n",
    "                print('Actual data not found')\n",
    "                work = False\n",
    "                break\n",
    "        \n",
    "    else:\n",
    "        work = False\n"
   ]
  },
  {
   "cell_type": "code",
   "execution_count": 54,
   "id": "254eaaff",
   "metadata": {},
   "outputs": [],
   "source": [
    "# Save data\n",
    "data = data+start_data\n",
    "json_l = JSON_load('data')\n",
    "json_l = json_l.load(data)"
   ]
  },
  {
   "cell_type": "code",
   "execution_count": 72,
   "id": "0d0f8f08",
   "metadata": {},
   "outputs": [
    {
     "name": "stdout",
     "output_type": "stream",
     "text": [
      "Количество пользователей - 210\n"
     ]
    },
    {
     "data": {
      "text/html": [
       "<div>\n",
       "<style scoped>\n",
       "    .dataframe tbody tr th:only-of-type {\n",
       "        vertical-align: middle;\n",
       "    }\n",
       "\n",
       "    .dataframe tbody tr th {\n",
       "        vertical-align: top;\n",
       "    }\n",
       "\n",
       "    .dataframe thead th {\n",
       "        text-align: right;\n",
       "    }\n",
       "</style>\n",
       "<table border=\"1\" class=\"dataframe\">\n",
       "  <thead>\n",
       "    <tr style=\"text-align: right;\">\n",
       "      <th></th>\n",
       "      <th>id</th>\n",
       "      <th>identity</th>\n",
       "      <th>command</th>\n",
       "      <th>time_create</th>\n",
       "      <th>date</th>\n",
       "    </tr>\n",
       "  </thead>\n",
       "  <tbody>\n",
       "    <tr>\n",
       "      <th>0</th>\n",
       "      <td>2143</td>\n",
       "      <td>315854463</td>\n",
       "      <td>progress_words</td>\n",
       "      <td>2022-12-21T18:32:39.305321+03:00</td>\n",
       "      <td>2022-12-21</td>\n",
       "    </tr>\n",
       "    <tr>\n",
       "      <th>1</th>\n",
       "      <td>2142</td>\n",
       "      <td>409308393</td>\n",
       "      <td>open_settings</td>\n",
       "      <td>2022-12-21T15:13:22.662603+03:00</td>\n",
       "      <td>2022-12-21</td>\n",
       "    </tr>\n",
       "    <tr>\n",
       "      <th>2</th>\n",
       "      <td>2141</td>\n",
       "      <td>315854463</td>\n",
       "      <td>exit</td>\n",
       "      <td>2022-12-21T15:04:03.171655+03:00</td>\n",
       "      <td>2022-12-21</td>\n",
       "    </tr>\n",
       "    <tr>\n",
       "      <th>3</th>\n",
       "      <td>2140</td>\n",
       "      <td>315854463</td>\n",
       "      <td>new_words</td>\n",
       "      <td>2022-12-21T15:03:55.157946+03:00</td>\n",
       "      <td>2022-12-21</td>\n",
       "    </tr>\n",
       "    <tr>\n",
       "      <th>4</th>\n",
       "      <td>2139</td>\n",
       "      <td>315854463</td>\n",
       "      <td>exit</td>\n",
       "      <td>2022-12-21T15:03:53.964027+03:00</td>\n",
       "      <td>2022-12-21</td>\n",
       "    </tr>\n",
       "  </tbody>\n",
       "</table>\n",
       "</div>"
      ],
      "text/plain": [
       "     id   identity         command                       time_create  \\\n",
       "0  2143  315854463  progress_words  2022-12-21T18:32:39.305321+03:00   \n",
       "1  2142  409308393   open_settings  2022-12-21T15:13:22.662603+03:00   \n",
       "2  2141  315854463            exit  2022-12-21T15:04:03.171655+03:00   \n",
       "3  2140  315854463       new_words  2022-12-21T15:03:55.157946+03:00   \n",
       "4  2139  315854463            exit  2022-12-21T15:03:53.964027+03:00   \n",
       "\n",
       "         date  \n",
       "0  2022-12-21  \n",
       "1  2022-12-21  \n",
       "2  2022-12-21  \n",
       "3  2022-12-21  \n",
       "4  2022-12-21  "
      ]
     },
     "execution_count": 72,
     "metadata": {},
     "output_type": "execute_result"
    }
   ],
   "source": [
    "# Pandas\n",
    "df=pd.DataFrame(data)\n",
    "ids = list(df['identity'].unique())\n",
    "users_count = len(df['identity'].unique())\n",
    "print(f'Количество пользователей - {users_count}')\n",
    "df['date'] = df.apply(lambda x: x['time_create'].split('T')[0],axis=1)\n",
    "df.head()"
   ]
  },
  {
   "cell_type": "code",
   "execution_count": 74,
   "id": "84991b1d",
   "metadata": {},
   "outputs": [],
   "source": [
    "def intervals_link(id):\n",
    "    return f'https://intervals.ru/data/api/v1/{str(id)}/'"
   ]
  },
  {
   "cell_type": "code",
   "execution_count": 77,
   "id": "fb92a34a",
   "metadata": {},
   "outputs": [
    {
     "ename": "FileNotFoundError",
     "evalue": "[Errno 2] No such file or directory: 'settings/config.yaml'",
     "output_type": "error",
     "traceback": [
      "\u001b[0;31m---------------------------------------------------------------------------\u001b[0m",
      "\u001b[0;31mFileNotFoundError\u001b[0m                         Traceback (most recent call last)",
      "Input \u001b[0;32mIn [77]\u001b[0m, in \u001b[0;36m<cell line: 19>\u001b[0;34m()\u001b[0m\n\u001b[1;32m     17\u001b[0m lc \u001b[38;5;241m=\u001b[39m ListConventer(days_stat,\u001b[38;5;124m'\u001b[39m\u001b[38;5;124mwidth_headers\u001b[39m\u001b[38;5;124m'\u001b[39m)\n\u001b[1;32m     18\u001b[0m lc\u001b[38;5;241m.\u001b[39mconventer()\n\u001b[0;32m---> 19\u001b[0m gic \u001b[38;5;241m=\u001b[39m \u001b[43mGetIntervalsConfig\u001b[49m\u001b[43m(\u001b[49m\u001b[43m)\u001b[49m\n\u001b[1;32m     20\u001b[0m IntervalsUpload(gic\u001b[38;5;241m.\u001b[39mtoken, intervals_link(\u001b[38;5;241m168\u001b[39m), lc\u001b[38;5;241m.\u001b[39mdatsheets)\n",
      "File \u001b[0;32m~/Рабочий стол/datascience projects/bilmek_stat/scripts/intervals_api.py:14\u001b[0m, in \u001b[0;36mGetIntervalsConfig.__init__\u001b[0;34m(self)\u001b[0m\n\u001b[1;32m     12\u001b[0m \u001b[38;5;28mself\u001b[39m\u001b[38;5;241m.\u001b[39mtoken \u001b[38;5;241m=\u001b[39m \u001b[38;5;28;01mNone\u001b[39;00m \n\u001b[1;32m     13\u001b[0m \u001b[38;5;28mself\u001b[39m\u001b[38;5;241m.\u001b[39mapi_link \u001b[38;5;241m=\u001b[39m \u001b[38;5;28;01mNone\u001b[39;00m\n\u001b[0;32m---> 14\u001b[0m \u001b[38;5;28;43mself\u001b[39;49m\u001b[38;5;241;43m.\u001b[39;49m\u001b[43mget_token\u001b[49m\u001b[43m(\u001b[49m\u001b[43m)\u001b[49m\n\u001b[1;32m     15\u001b[0m \u001b[38;5;28mprint\u001b[39m (\u001b[38;5;124m'\u001b[39m\u001b[38;5;124mДанные АПИ получены\u001b[39m\u001b[38;5;124m'\u001b[39m)\n",
      "File \u001b[0;32m~/Рабочий стол/datascience projects/bilmek_stat/scripts/intervals_api.py:19\u001b[0m, in \u001b[0;36mGetIntervalsConfig.get_token\u001b[0;34m(self)\u001b[0m\n\u001b[1;32m     17\u001b[0m \u001b[38;5;28;01mdef\u001b[39;00m \u001b[38;5;21mget_token\u001b[39m(\u001b[38;5;28mself\u001b[39m):\n\u001b[0;32m---> 19\u001b[0m     f \u001b[38;5;241m=\u001b[39m \u001b[38;5;28;43mopen\u001b[39;49m\u001b[43m(\u001b[49m\u001b[43mos\u001b[49m\u001b[38;5;241;43m.\u001b[39;49m\u001b[43mpath\u001b[49m\u001b[38;5;241;43m.\u001b[39;49m\u001b[43mjoin\u001b[49m\u001b[43m(\u001b[49m\u001b[38;5;124;43m'\u001b[39;49m\u001b[38;5;124;43msettings\u001b[39;49m\u001b[38;5;124;43m'\u001b[39;49m\u001b[43m,\u001b[49m\u001b[43m \u001b[49m\u001b[38;5;124;43m'\u001b[39;49m\u001b[38;5;124;43mconfig.yaml\u001b[39;49m\u001b[38;5;124;43m'\u001b[39;49m\u001b[43m)\u001b[49m\u001b[43m \u001b[49m\u001b[43m,\u001b[49m\u001b[43m \u001b[49m\u001b[38;5;124;43m'\u001b[39;49m\u001b[38;5;124;43mr\u001b[39;49m\u001b[38;5;124;43m'\u001b[39;49m\u001b[43m)\u001b[49m\n\u001b[1;32m     20\u001b[0m     config \u001b[38;5;241m=\u001b[39m load(f)\n\u001b[1;32m     21\u001b[0m     email \u001b[38;5;241m=\u001b[39m config[\u001b[38;5;124m'\u001b[39m\u001b[38;5;124mintervals_email\u001b[39m\u001b[38;5;124m'\u001b[39m]\n",
      "\u001b[0;31mFileNotFoundError\u001b[0m: [Errno 2] No such file or directory: 'settings/config.yaml'"
     ]
    }
   ],
   "source": [
    "def get_days(row):\n",
    "    try:\n",
    "        return len(list(df[df['identity'] == row['identity']]['date'].unique()))\n",
    "    except:\n",
    "        0\n",
    "        \n",
    "def get_counts(row):\n",
    "    return df['identity'].value_counts ()[row['identity']]\n",
    "\n",
    "# Data days, counts\n",
    "days_stat = pd.DataFrame(ids, columns=['identity'])\n",
    "days_stat['days'] = days_stat.apply(get_days, axis=1)\n",
    "days_stat['counts'] = days_stat.apply(get_counts, axis=1)\n",
    "days_stat.sort_values(by='days', ascending=False).reset_index()[['identity', 'days', 'counts']].head(10)\n",
    "\n",
    "# Upload data on intervals\n",
    "lc = ListConventer(days_stat,'width_headers')\n",
    "lc.conventer()\n",
    "gic = GetIntervalsConfig()\n",
    "IntervalsUpload(gic.token, intervals_link(168), lc.datsheets)   "
   ]
  },
  {
   "cell_type": "code",
   "execution_count": 73,
   "id": "4a986ff3",
   "metadata": {},
   "outputs": [
    {
     "data": {
      "text/html": [
       "<div>\n",
       "<style scoped>\n",
       "    .dataframe tbody tr th:only-of-type {\n",
       "        vertical-align: middle;\n",
       "    }\n",
       "\n",
       "    .dataframe tbody tr th {\n",
       "        vertical-align: top;\n",
       "    }\n",
       "\n",
       "    .dataframe thead th {\n",
       "        text-align: right;\n",
       "    }\n",
       "</style>\n",
       "<table border=\"1\" class=\"dataframe\">\n",
       "  <thead>\n",
       "    <tr style=\"text-align: right;\">\n",
       "      <th></th>\n",
       "      <th>command</th>\n",
       "      <th>counts</th>\n",
       "    </tr>\n",
       "  </thead>\n",
       "  <tbody>\n",
       "    <tr>\n",
       "      <th>0</th>\n",
       "      <td>exit</td>\n",
       "      <td>357</td>\n",
       "    </tr>\n",
       "    <tr>\n",
       "      <th>1</th>\n",
       "      <td>new_words</td>\n",
       "      <td>330</td>\n",
       "    </tr>\n",
       "    <tr>\n",
       "      <th>2</th>\n",
       "      <td>/start</td>\n",
       "      <td>256</td>\n",
       "    </tr>\n",
       "    <tr>\n",
       "      <th>3</th>\n",
       "      <td>/menu</td>\n",
       "      <td>145</td>\n",
       "    </tr>\n",
       "    <tr>\n",
       "      <th>4</th>\n",
       "      <td>open_settings</td>\n",
       "      <td>111</td>\n",
       "    </tr>\n",
       "    <tr>\n",
       "      <th>5</th>\n",
       "      <td>repeat_words</td>\n",
       "      <td>110</td>\n",
       "    </tr>\n",
       "    <tr>\n",
       "      <th>6</th>\n",
       "      <td>grammar_book</td>\n",
       "      <td>103</td>\n",
       "    </tr>\n",
       "    <tr>\n",
       "      <th>7</th>\n",
       "      <td>proceed_start</td>\n",
       "      <td>89</td>\n",
       "    </tr>\n",
       "    <tr>\n",
       "      <th>8</th>\n",
       "      <td>main_menu</td>\n",
       "      <td>73</td>\n",
       "    </tr>\n",
       "    <tr>\n",
       "      <th>9</th>\n",
       "      <td>progress_words</td>\n",
       "      <td>69</td>\n",
       "    </tr>\n",
       "  </tbody>\n",
       "</table>\n",
       "</div>"
      ],
      "text/plain": [
       "          command  counts\n",
       "0            exit     357\n",
       "1       new_words     330\n",
       "2          /start     256\n",
       "3           /menu     145\n",
       "4   open_settings     111\n",
       "5    repeat_words     110\n",
       "6    grammar_book     103\n",
       "7   proceed_start      89\n",
       "8       main_menu      73\n",
       "9  progress_words      69"
      ]
     },
     "execution_count": 73,
     "metadata": {},
     "output_type": "execute_result"
    }
   ],
   "source": [
    "# Data commands\n",
    "commands = df['command'].value_counts().reset_index()\n",
    "commands.columns = ['command', 'counts']\n",
    "commands.head(10)"
   ]
  },
  {
   "cell_type": "code",
   "execution_count": null,
   "id": "7a56880a",
   "metadata": {},
   "outputs": [],
   "source": []
  }
 ],
 "metadata": {
  "kernelspec": {
   "display_name": "Python 3 (ipykernel)",
   "language": "python",
   "name": "python3"
  },
  "language_info": {
   "codemirror_mode": {
    "name": "ipython",
    "version": 3
   },
   "file_extension": ".py",
   "mimetype": "text/x-python",
   "name": "python",
   "nbconvert_exporter": "python",
   "pygments_lexer": "ipython3",
   "version": "3.9.12"
  }
 },
 "nbformat": 4,
 "nbformat_minor": 5
}
