{
 "cells": [
  {
   "cell_type": "code",
   "execution_count": 1,
   "id": "55b70ed7",
   "metadata": {},
   "outputs": [],
   "source": [
    "# IMPORTS\n",
    "\n",
    "# Base\n",
    "import json\n",
    "import pandas as pd\n",
    "\n",
    "# Inner\n",
    "from scripts.file_manager import YAML_read, JSON_load, JSON_open\n",
    "from scripts.requests import Request_post\n",
    "\n",
    "# Old Inner Libs\n",
    "from scripts.googlesheets_upload_lib import ListConventer\n",
    "from scripts.intervals_api import *\n"
   ]
  },
  {
   "cell_type": "code",
   "execution_count": 2,
   "id": "86beb0bd",
   "metadata": {},
   "outputs": [],
   "source": [
    "# Get settings\n",
    "file = YAML_read('config')\n",
    "config = file.get_config()\n",
    "token = config['service_token'] # Exclude API token\n",
    "link = config['service_link'] # Exclude API url\n",
    "json_o = JSON_open('data')\n",
    "start_data = json_o.open()\n",
    "actual_data_id = start_data[0]['id'] # This is maximum data id in offline dataset"
   ]
  },
  {
   "cell_type": "code",
   "execution_count": 3,
   "id": "3bb23972",
   "metadata": {},
   "outputs": [
    {
     "data": {
      "text/plain": [
       "<scripts.requests.Request_post at 0x7f8c09914610>"
      ]
     },
     "execution_count": 3,
     "metadata": {},
     "output_type": "execute_result"
    }
   ],
   "source": [
    "Request_post(link, token) "
   ]
  },
  {
   "cell_type": "code",
   "execution_count": 3,
   "id": "0cf3bdd1",
   "metadata": {},
   "outputs": [
    {
     "ename": "TypeError",
     "evalue": "__init__() should return None, not 'dict'",
     "output_type": "error",
     "traceback": [
      "\u001b[0;31m---------------------------------------------------------------------------\u001b[0m",
      "\u001b[0;31mTypeError\u001b[0m                                 Traceback (most recent call last)",
      "Input \u001b[0;32mIn [3]\u001b[0m, in \u001b[0;36m<cell line: 3>\u001b[0;34m()\u001b[0m\n\u001b[1;32m      1\u001b[0m \u001b[38;5;66;03m# Get data on cycle request \u001b[39;00m\n\u001b[0;32m----> 3\u001b[0m snap \u001b[38;5;241m=\u001b[39m \u001b[43mRequest_post\u001b[49m\u001b[43m(\u001b[49m\u001b[43mlink\u001b[49m\u001b[43m,\u001b[49m\u001b[43m \u001b[49m\u001b[43mtoken\u001b[49m\u001b[43m)\u001b[49m \u001b[38;5;66;03m# First request\u001b[39;00m\n\u001b[1;32m      4\u001b[0m data \u001b[38;5;241m=\u001b[39m []\n\u001b[1;32m      5\u001b[0m num \u001b[38;5;241m=\u001b[39m \u001b[38;5;241m1\u001b[39m\n",
      "\u001b[0;31mTypeError\u001b[0m: __init__() should return None, not 'dict'"
     ]
    }
   ],
   "source": [
    "# Get data on cycle request \n",
    "\n",
    "result = Request_post(link, token) # First request\n",
    "data = []\n",
    "snap = result.result\n",
    "num = 1\n",
    "work = True\n",
    "while work:\n",
    "    if snap['next']:\n",
    "        link = snap['next']\n",
    "        for result in snap['results']:\n",
    "            if result['id'] > actual_data_id:\n",
    "                data += [result]\n",
    "                result = Request_post(link, token)\n",
    "                snap = result.result\n",
    "                num += 1\n",
    "            else:\n",
    "                print('Actual data not found')\n",
    "                work = False\n",
    "                break\n",
    "        \n",
    "    else:\n",
    "        work = False\n"
   ]
  },
  {
   "cell_type": "code",
   "execution_count": null,
   "id": "ebff95d8",
   "metadata": {},
   "outputs": [],
   "source": [
    "# Save data\n",
    "data = data+start_data\n",
    "json_l = JSON_load('data')\n",
    "json_l = json_l.load(data)"
   ]
  },
  {
   "cell_type": "code",
   "execution_count": null,
   "id": "1c80435e",
   "metadata": {},
   "outputs": [],
   "source": [
    "# Pandas\n",
    "df=pd.DataFrame(data)\n",
    "ids = list(df['identity'].unique())\n",
    "users_count = len(df['identity'].unique())\n",
    "print(f'Количество пользователей - {users_count}')\n",
    "df['date'] = df.apply(lambda x: x['time_create'].split('T')[0],axis=1)\n",
    "df.head()"
   ]
  },
  {
   "cell_type": "code",
   "execution_count": null,
   "id": "4d1a7d56",
   "metadata": {},
   "outputs": [],
   "source": [
    "# Create intervals token and links wrapper\n",
    "\n",
    "def intervals_link(id):\n",
    "    return f'https://intervals.ru/data/api/v1/{str(id)}/'\n",
    "\n",
    "gic = GetIntervalsConfig()\n",
    "gic.get_token('config')"
   ]
  },
  {
   "cell_type": "code",
   "execution_count": null,
   "id": "22e8efa3",
   "metadata": {},
   "outputs": [],
   "source": [
    "def get_days(row):\n",
    "    try:\n",
    "        return len(list(df[df['identity'] == row['identity']]['date'].unique()))\n",
    "    except:\n",
    "        0\n",
    "        \n",
    "def get_counts(row):\n",
    "    return df['identity'].value_counts ()[row['identity']]\n",
    "\n",
    "# Data days, counts\n",
    "days_stat = pd.DataFrame(ids, columns=['identity'])\n",
    "days_stat['days'] = days_stat.apply(get_days, axis=1)\n",
    "days_stat['counts'] = days_stat.apply(get_counts, axis=1)\n",
    "days_stat = days_stat.sort_values(by='days', ascending=False).reset_index()[['identity', 'days', 'counts']]\n",
    "\n",
    "# Upload data on intervals\n",
    "lc = ListConventer(days_stat,'width_headers')\n",
    "lc.conventer()\n",
    "IntervalsUpload(gic.token, intervals_link(168), lc.datsheets)   "
   ]
  },
  {
   "cell_type": "code",
   "execution_count": null,
   "id": "1e08f9aa",
   "metadata": {},
   "outputs": [],
   "source": [
    "# Data commands\n",
    "commands = df['command'].value_counts().reset_index()\n",
    "commands.columns = ['command', 'counts']\n",
    "\n",
    "\n",
    "# Upload data on intervals\n",
    "lc = ListConventer(commands,'width_headers')\n",
    "lc.conventer()\n",
    "IntervalsUpload(gic.token, intervals_link(169), lc.datsheets)   "
   ]
  },
  {
   "cell_type": "code",
   "execution_count": null,
   "id": "644c8c7a",
   "metadata": {},
   "outputs": [],
   "source": []
  },
  {
   "cell_type": "code",
   "execution_count": null,
   "id": "0f38b1f4",
   "metadata": {},
   "outputs": [],
   "source": []
  }
 ],
 "metadata": {
  "kernelspec": {
   "display_name": "Python 3 (ipykernel)",
   "language": "python",
   "name": "python3"
  },
  "language_info": {
   "codemirror_mode": {
    "name": "ipython",
    "version": 3
   },
   "file_extension": ".py",
   "mimetype": "text/x-python",
   "name": "python",
   "nbconvert_exporter": "python",
   "pygments_lexer": "ipython3",
   "version": "3.9.12"
  }
 },
 "nbformat": 4,
 "nbformat_minor": 5
}
