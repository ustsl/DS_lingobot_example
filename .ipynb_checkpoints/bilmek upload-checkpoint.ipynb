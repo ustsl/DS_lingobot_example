{
 "cells": [
  {
   "cell_type": "code",
   "execution_count": 69,
   "id": "d2838d5e",
   "metadata": {},
   "outputs": [],
   "source": [
    "# IMPORTS\n",
    "\n",
    "# Base\n",
    "import json\n",
    "import pandas as pd\n",
    "\n",
    "# Inner\n",
    "from scripts.file_manager import YAML_read\n",
    "from scripts.requests import Request_post\n"
   ]
  },
  {
   "cell_type": "code",
   "execution_count": 70,
   "id": "b512f245",
   "metadata": {},
   "outputs": [],
   "source": [
    "# Get settings\n",
    "file = YAML_read('config')\n",
    "file.get_config()\n",
    "token = file.config['service_token'] # Exclude API token\n",
    "link = file.config['service_link'] # Exclude API url\n",
    "\n",
    "with open('data.json') as f:\n",
    "    start_data = json.load(f)\n",
    "\n",
    "actual_data_id = start_data[0]['id'] # This is maximum data id in offline dataset\n"
   ]
  },
  {
   "cell_type": "code",
   "execution_count": 71,
   "id": "15eb7bdd",
   "metadata": {},
   "outputs": [
    {
     "name": "stdout",
     "output_type": "stream",
     "text": [
      "Actual data not found\n"
     ]
    }
   ],
   "source": [
    "# Get data on cycle request \n",
    "\n",
    "result = Request_post(link, token) # First request\n",
    "data = []\n",
    "snap = result.result\n",
    "num = 1\n",
    "work = True\n",
    "while work:\n",
    "    if snap['next']:\n",
    "        for result in snap['results']:\n",
    "            if result['id'] > actual_data_id:\n",
    "                data += [result]\n",
    "                link = snap['next']\n",
    "                result = Request_post(link, token)\n",
    "                snap = result.result\n",
    "                num += 1\n",
    "            else:\n",
    "                print('Actual data not found')\n",
    "                work = False\n",
    "                break\n",
    "        \n",
    "    else:\n",
    "        work = False\n"
   ]
  },
  {
   "cell_type": "code",
   "execution_count": 74,
   "id": "99f0d6cc",
   "metadata": {},
   "outputs": [],
   "source": [
    "# Save data\n",
    "\n",
    "data = data + start_data\n",
    "with open('data.json', 'w', encoding='utf-8') as f:\n",
    "    json.dump(data, f, ensure_ascii=False, indent=4)"
   ]
  },
  {
   "cell_type": "code",
   "execution_count": 80,
   "id": "1024a811",
   "metadata": {},
   "outputs": [
    {
     "data": {
      "text/html": [
       "<div>\n",
       "<style scoped>\n",
       "    .dataframe tbody tr th:only-of-type {\n",
       "        vertical-align: middle;\n",
       "    }\n",
       "\n",
       "    .dataframe tbody tr th {\n",
       "        vertical-align: top;\n",
       "    }\n",
       "\n",
       "    .dataframe thead th {\n",
       "        text-align: right;\n",
       "    }\n",
       "</style>\n",
       "<table border=\"1\" class=\"dataframe\">\n",
       "  <thead>\n",
       "    <tr style=\"text-align: right;\">\n",
       "      <th></th>\n",
       "      <th>id</th>\n",
       "      <th>identity</th>\n",
       "      <th>command</th>\n",
       "      <th>time_create</th>\n",
       "    </tr>\n",
       "  </thead>\n",
       "  <tbody>\n",
       "    <tr>\n",
       "      <th>0</th>\n",
       "      <td>2142</td>\n",
       "      <td>409308393</td>\n",
       "      <td>open_settings</td>\n",
       "      <td>2022-12-21T15:13:22.662603+03:00</td>\n",
       "    </tr>\n",
       "    <tr>\n",
       "      <th>1</th>\n",
       "      <td>2141</td>\n",
       "      <td>315854463</td>\n",
       "      <td>exit</td>\n",
       "      <td>2022-12-21T15:04:03.171655+03:00</td>\n",
       "    </tr>\n",
       "    <tr>\n",
       "      <th>2</th>\n",
       "      <td>2140</td>\n",
       "      <td>315854463</td>\n",
       "      <td>new_words</td>\n",
       "      <td>2022-12-21T15:03:55.157946+03:00</td>\n",
       "    </tr>\n",
       "    <tr>\n",
       "      <th>3</th>\n",
       "      <td>2139</td>\n",
       "      <td>315854463</td>\n",
       "      <td>exit</td>\n",
       "      <td>2022-12-21T15:03:53.964027+03:00</td>\n",
       "    </tr>\n",
       "    <tr>\n",
       "      <th>4</th>\n",
       "      <td>2138</td>\n",
       "      <td>315854463</td>\n",
       "      <td>new_words</td>\n",
       "      <td>2022-12-21T15:01:21.364983+03:00</td>\n",
       "    </tr>\n",
       "  </tbody>\n",
       "</table>\n",
       "</div>"
      ],
      "text/plain": [
       "     id   identity        command                       time_create\n",
       "0  2142  409308393  open_settings  2022-12-21T15:13:22.662603+03:00\n",
       "1  2141  315854463           exit  2022-12-21T15:04:03.171655+03:00\n",
       "2  2140  315854463      new_words  2022-12-21T15:03:55.157946+03:00\n",
       "3  2139  315854463           exit  2022-12-21T15:03:53.964027+03:00\n",
       "4  2138  315854463      new_words  2022-12-21T15:01:21.364983+03:00"
      ]
     },
     "execution_count": 80,
     "metadata": {},
     "output_type": "execute_result"
    }
   ],
   "source": [
    "# Pandas\n",
    "\n",
    "df=pd.DataFrame(data)\n",
    "df.head()"
   ]
  },
  {
   "cell_type": "code",
   "execution_count": null,
   "id": "935d1304",
   "metadata": {},
   "outputs": [],
   "source": []
  }
 ],
 "metadata": {
  "kernelspec": {
   "display_name": "Python 3 (ipykernel)",
   "language": "python",
   "name": "python3"
  },
  "language_info": {
   "codemirror_mode": {
    "name": "ipython",
    "version": 3
   },
   "file_extension": ".py",
   "mimetype": "text/x-python",
   "name": "python",
   "nbconvert_exporter": "python",
   "pygments_lexer": "ipython3",
   "version": "3.9.12"
  }
 },
 "nbformat": 4,
 "nbformat_minor": 5
}
